{
 "cells": [
  {
   "cell_type": "markdown",
   "metadata": {},
   "source": [
    "Code to sort the ukiyoe paintings to based on artists and tokens"
   ]
  },
  {
   "cell_type": "code",
   "execution_count": 1,
   "metadata": {},
   "outputs": [],
   "source": [
    "import os\n",
    "from shutil import copy"
   ]
  },
  {
   "cell_type": "code",
   "execution_count": 2,
   "metadata": {},
   "outputs": [],
   "source": [
    "PATH = \"D:/datasets/wikiart/wikiart/Ukiyo_e/\"\n",
    "DESTINATION = \"D:/Users/Dennis/PycharmProjects/sorted_dataset/ukiyoe_artist/\"\n",
    "\n",
    "def sort_dataset(PATH, DESTINATION):\n",
    "    for pic in os.listdir(PATH):\n",
    "        substring = pic.split('_')\n",
    "        dest = DESTINATION+substring[0]\n",
    "        if not os.path.exists(dest):\n",
    "            os.makedirs(dest)\n",
    "        src = PATH + pic\n",
    "        dest += '/'+pic\n",
    "        copy(src, dest)\n",
    "\n",
    "sort_dataset(PATH, DESTINATION)\n",
    "    "
   ]
  },
  {
   "cell_type": "code",
   "execution_count": 3,
   "metadata": {},
   "outputs": [],
   "source": [
    "PATH = \"D:/datasets/wikiart/wikiart/Ukiyo_e/\"\n",
    "DESTINATION = \"D:/Users/Dennis/PycharmProjects/sorted_dataset/ukiyoe_title/\"\n",
    "\n",
    "def sort_dataset(PATH, DESTINATION):\n",
    "    for pic in os.listdir(PATH):\n",
    "        pic = pic.replace('.jpg', '')\n",
    "        substring = pic.split('_')\n",
    "        token = substring[1].split('-')\n",
    "        for word in token:\n",
    "            if any(char.isdigit() for char in word):\n",
    "                continue\n",
    "            dest = DESTINATION+word\n",
    "            if not os.path.exists(dest):\n",
    "                os.makedirs(dest)\n",
    "            src = PATH + pic+\".jpg\"\n",
    "            dest += '/'+pic+\".jpg\"\n",
    "            copy(src, dest)\n",
    "\n",
    "sort_dataset(PATH, DESTINATION)"
   ]
  },
  {
   "cell_type": "markdown",
   "metadata": {},
   "source": [
    "Code to play create a test and train set out of the large amount of bitmap numpy images"
   ]
  },
  {
   "cell_type": "code",
   "execution_count": null,
   "metadata": {},
   "outputs": [],
   "source": [
    "import numpy as np\n",
    "import os\n",
    "import matplotlib\n",
    "import matplotlib.pyplot as plt\n",
    "from PIL import Image\n",
    "    \n",
    "%matplotlib inline \n",
    "\n",
    "PATH_DRAW_QUICK = \"D:/Users/Dennis/PycharmProjects/sorted_dataset/quick_draw/\" \n",
    "birds = \"full_numpy_bitmap_bird.npy\"\n",
    "\n",
    "birds = np.load(PATH_DRAW_QUICK+birds)\n",
    "print(birds.shape)\n",
    "for i, picture in enumerate(birds):\n",
    "    picture = picture.reshape(28,28)\n",
    "    im = Image.fromarray(picture)\n",
    "    if i/500 < 0.8:\n",
    "        im.save(r\"D:\\Users\\Dennis\\PycharmProjects\\pytorch-CycleGAN-and-pix2pix\\pytorch-CycleGAN-and-pix2pix\\datasets\\doodle2ukiyoe\\trainA\\bird\"+str(i)+\".png\")\n",
    "    else:\n",
    "        im.save(r\"D:\\Users\\Dennis\\PycharmProjects\\pytorch-CycleGAN-and-pix2pix\\pytorch-CycleGAN-and-pix2pix\\datasets\\doodle2ukiyoe\\testA\\bird\"+str(i)+\".png\")\n",
    "    if i >500:\n",
    "        break\n",
    "        \n"
   ]
  },
  {
   "cell_type": "markdown",
   "metadata": {},
   "source": []
  },
  {
   "cell_type": "code",
   "execution_count": null,
   "metadata": {},
   "outputs": [],
   "source": []
  }
 ],
 "metadata": {
  "kernelspec": {
   "display_name": "Python 3",
   "language": "python",
   "name": "python3"
  },
  "language_info": {
   "codemirror_mode": {
    "name": "ipython",
    "version": 3
   },
   "file_extension": ".py",
   "mimetype": "text/x-python",
   "name": "python",
   "nbconvert_exporter": "python",
   "pygments_lexer": "ipython3",
   "version": "3.7.4"
  }
 },
 "nbformat": 4,
 "nbformat_minor": 2
}
